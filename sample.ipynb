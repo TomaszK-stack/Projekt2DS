{
 "cells": [
  {
   "cell_type": "code",
   "execution_count": 1,
   "id": "initial_id",
   "metadata": {
    "collapsed": true,
    "ExecuteTime": {
     "end_time": "2024-01-26T16:21:34.336239500Z",
     "start_time": "2024-01-26T16:21:34.309385Z"
    }
   },
   "outputs": [],
   "source": [
    "import pandas as pd\n",
    "import numpy as np\n",
    "import matplotlib.pyplot as plt\n",
    "import seaborn as sns"
   ]
  },
  {
   "cell_type": "code",
   "execution_count": 2,
   "outputs": [
    {
     "data": {
      "text/plain": "      pclass  survived                                             name  \\\n0          1         1                    Allen, Miss. Elisabeth Walton   \n1          1         1                   Allison, Master. Hudson Trevor   \n2          1         0                     Allison, Miss. Helen Loraine   \n3          1         0             Allison, Mr. Hudson Joshua Creighton   \n4          1         0  Allison, Mrs. Hudson J C (Bessie Waldo Daniels)   \n...      ...       ...                                              ...   \n1304       3         0                             Zabour, Miss. Hileni   \n1305       3         0                            Zabour, Miss. Thamine   \n1306       3         0                        Zakarian, Mr. Mapriededer   \n1307       3         0                              Zakarian, Mr. Ortin   \n1308       3         0                               Zimmerman, Mr. Leo   \n\n         sex      age  sibsp  parch  ticket      fare    cabin embarked boat  \\\n0     female  29.0000      0      0   24160  211.3375       B5        S    2   \n1       male   0.9167      1      2  113781  151.5500  C22 C26        S   11   \n2     female   2.0000      1      2  113781  151.5500  C22 C26        S  NaN   \n3       male  30.0000      1      2  113781  151.5500  C22 C26        S  NaN   \n4     female  25.0000      1      2  113781  151.5500  C22 C26        S  NaN   \n...      ...      ...    ...    ...     ...       ...      ...      ...  ...   \n1304  female  14.5000      1      0    2665   14.4542      NaN        C  NaN   \n1305  female      NaN      1      0    2665   14.4542      NaN        C  NaN   \n1306    male  26.5000      0      0    2656    7.2250      NaN        C  NaN   \n1307    male  27.0000      0      0    2670    7.2250      NaN        C  NaN   \n1308    male  29.0000      0      0  315082    7.8750      NaN        S  NaN   \n\n       body                        home_dest  \n0       NaN                     St Louis, MO  \n1       NaN  Montreal, PQ / Chesterville, ON  \n2       NaN  Montreal, PQ / Chesterville, ON  \n3     135.0  Montreal, PQ / Chesterville, ON  \n4       NaN  Montreal, PQ / Chesterville, ON  \n...     ...                              ...  \n1304  328.0                              NaN  \n1305    NaN                              NaN  \n1306  304.0                              NaN  \n1307    NaN                              NaN  \n1308    NaN                              NaN  \n\n[1309 rows x 14 columns]",
      "text/html": "<div>\n<style scoped>\n    .dataframe tbody tr th:only-of-type {\n        vertical-align: middle;\n    }\n\n    .dataframe tbody tr th {\n        vertical-align: top;\n    }\n\n    .dataframe thead th {\n        text-align: right;\n    }\n</style>\n<table border=\"1\" class=\"dataframe\">\n  <thead>\n    <tr style=\"text-align: right;\">\n      <th></th>\n      <th>pclass</th>\n      <th>survived</th>\n      <th>name</th>\n      <th>sex</th>\n      <th>age</th>\n      <th>sibsp</th>\n      <th>parch</th>\n      <th>ticket</th>\n      <th>fare</th>\n      <th>cabin</th>\n      <th>embarked</th>\n      <th>boat</th>\n      <th>body</th>\n      <th>home_dest</th>\n    </tr>\n  </thead>\n  <tbody>\n    <tr>\n      <th>0</th>\n      <td>1</td>\n      <td>1</td>\n      <td>Allen, Miss. Elisabeth Walton</td>\n      <td>female</td>\n      <td>29.0000</td>\n      <td>0</td>\n      <td>0</td>\n      <td>24160</td>\n      <td>211.3375</td>\n      <td>B5</td>\n      <td>S</td>\n      <td>2</td>\n      <td>NaN</td>\n      <td>St Louis, MO</td>\n    </tr>\n    <tr>\n      <th>1</th>\n      <td>1</td>\n      <td>1</td>\n      <td>Allison, Master. Hudson Trevor</td>\n      <td>male</td>\n      <td>0.9167</td>\n      <td>1</td>\n      <td>2</td>\n      <td>113781</td>\n      <td>151.5500</td>\n      <td>C22 C26</td>\n      <td>S</td>\n      <td>11</td>\n      <td>NaN</td>\n      <td>Montreal, PQ / Chesterville, ON</td>\n    </tr>\n    <tr>\n      <th>2</th>\n      <td>1</td>\n      <td>0</td>\n      <td>Allison, Miss. Helen Loraine</td>\n      <td>female</td>\n      <td>2.0000</td>\n      <td>1</td>\n      <td>2</td>\n      <td>113781</td>\n      <td>151.5500</td>\n      <td>C22 C26</td>\n      <td>S</td>\n      <td>NaN</td>\n      <td>NaN</td>\n      <td>Montreal, PQ / Chesterville, ON</td>\n    </tr>\n    <tr>\n      <th>3</th>\n      <td>1</td>\n      <td>0</td>\n      <td>Allison, Mr. Hudson Joshua Creighton</td>\n      <td>male</td>\n      <td>30.0000</td>\n      <td>1</td>\n      <td>2</td>\n      <td>113781</td>\n      <td>151.5500</td>\n      <td>C22 C26</td>\n      <td>S</td>\n      <td>NaN</td>\n      <td>135.0</td>\n      <td>Montreal, PQ / Chesterville, ON</td>\n    </tr>\n    <tr>\n      <th>4</th>\n      <td>1</td>\n      <td>0</td>\n      <td>Allison, Mrs. Hudson J C (Bessie Waldo Daniels)</td>\n      <td>female</td>\n      <td>25.0000</td>\n      <td>1</td>\n      <td>2</td>\n      <td>113781</td>\n      <td>151.5500</td>\n      <td>C22 C26</td>\n      <td>S</td>\n      <td>NaN</td>\n      <td>NaN</td>\n      <td>Montreal, PQ / Chesterville, ON</td>\n    </tr>\n    <tr>\n      <th>...</th>\n      <td>...</td>\n      <td>...</td>\n      <td>...</td>\n      <td>...</td>\n      <td>...</td>\n      <td>...</td>\n      <td>...</td>\n      <td>...</td>\n      <td>...</td>\n      <td>...</td>\n      <td>...</td>\n      <td>...</td>\n      <td>...</td>\n      <td>...</td>\n    </tr>\n    <tr>\n      <th>1304</th>\n      <td>3</td>\n      <td>0</td>\n      <td>Zabour, Miss. Hileni</td>\n      <td>female</td>\n      <td>14.5000</td>\n      <td>1</td>\n      <td>0</td>\n      <td>2665</td>\n      <td>14.4542</td>\n      <td>NaN</td>\n      <td>C</td>\n      <td>NaN</td>\n      <td>328.0</td>\n      <td>NaN</td>\n    </tr>\n    <tr>\n      <th>1305</th>\n      <td>3</td>\n      <td>0</td>\n      <td>Zabour, Miss. Thamine</td>\n      <td>female</td>\n      <td>NaN</td>\n      <td>1</td>\n      <td>0</td>\n      <td>2665</td>\n      <td>14.4542</td>\n      <td>NaN</td>\n      <td>C</td>\n      <td>NaN</td>\n      <td>NaN</td>\n      <td>NaN</td>\n    </tr>\n    <tr>\n      <th>1306</th>\n      <td>3</td>\n      <td>0</td>\n      <td>Zakarian, Mr. Mapriededer</td>\n      <td>male</td>\n      <td>26.5000</td>\n      <td>0</td>\n      <td>0</td>\n      <td>2656</td>\n      <td>7.2250</td>\n      <td>NaN</td>\n      <td>C</td>\n      <td>NaN</td>\n      <td>304.0</td>\n      <td>NaN</td>\n    </tr>\n    <tr>\n      <th>1307</th>\n      <td>3</td>\n      <td>0</td>\n      <td>Zakarian, Mr. Ortin</td>\n      <td>male</td>\n      <td>27.0000</td>\n      <td>0</td>\n      <td>0</td>\n      <td>2670</td>\n      <td>7.2250</td>\n      <td>NaN</td>\n      <td>C</td>\n      <td>NaN</td>\n      <td>NaN</td>\n      <td>NaN</td>\n    </tr>\n    <tr>\n      <th>1308</th>\n      <td>3</td>\n      <td>0</td>\n      <td>Zimmerman, Mr. Leo</td>\n      <td>male</td>\n      <td>29.0000</td>\n      <td>0</td>\n      <td>0</td>\n      <td>315082</td>\n      <td>7.8750</td>\n      <td>NaN</td>\n      <td>S</td>\n      <td>NaN</td>\n      <td>NaN</td>\n      <td>NaN</td>\n    </tr>\n  </tbody>\n</table>\n<p>1309 rows × 14 columns</p>\n</div>"
     },
     "execution_count": 2,
     "metadata": {},
     "output_type": "execute_result"
    }
   ],
   "source": [
    "df = pd.read_csv(\"titanic.csv\")\n",
    "df"
   ],
   "metadata": {
    "collapsed": false,
    "ExecuteTime": {
     "end_time": "2024-01-26T16:21:34.418681100Z",
     "start_time": "2024-01-26T16:21:34.323620Z"
    }
   },
   "id": "9fd54cdd3395f8"
  },
  {
   "cell_type": "code",
   "execution_count": 3,
   "outputs": [
    {
     "name": "stdout",
     "output_type": "stream",
     "text": [
      "<class 'pandas.core.frame.DataFrame'>\n",
      "RangeIndex: 1309 entries, 0 to 1308\n",
      "Data columns (total 14 columns):\n",
      " #   Column     Non-Null Count  Dtype  \n",
      "---  ------     --------------  -----  \n",
      " 0   pclass     1309 non-null   int64  \n",
      " 1   survived   1309 non-null   int64  \n",
      " 2   name       1309 non-null   object \n",
      " 3   sex        1309 non-null   object \n",
      " 4   age        1046 non-null   float64\n",
      " 5   sibsp      1309 non-null   int64  \n",
      " 6   parch      1309 non-null   int64  \n",
      " 7   ticket     1309 non-null   object \n",
      " 8   fare       1308 non-null   float64\n",
      " 9   cabin      295 non-null    object \n",
      " 10  embarked   1307 non-null   object \n",
      " 11  boat       486 non-null    object \n",
      " 12  body       121 non-null    float64\n",
      " 13  home_dest  745 non-null    object \n",
      "dtypes: float64(3), int64(4), object(7)\n",
      "memory usage: 143.3+ KB\n",
      "None\n"
     ]
    }
   ],
   "source": [
    "print(df.info())"
   ],
   "metadata": {
    "collapsed": false,
    "ExecuteTime": {
     "end_time": "2024-01-26T16:21:34.487815900Z",
     "start_time": "2024-01-26T16:21:34.417464600Z"
    }
   },
   "id": "5b22cda6cd0b4809"
  },
  {
   "cell_type": "code",
   "execution_count": 4,
   "outputs": [
    {
     "data": {
      "text/plain": "            pclass     survived          age        sibsp        parch  \\\ncount  1309.000000  1309.000000  1046.000000  1309.000000  1309.000000   \nmean      2.294882     0.381971    29.881135     0.498854     0.385027   \nstd       0.837836     0.486055    14.413500     1.041658     0.865560   \nmin       1.000000     0.000000     0.166700     0.000000     0.000000   \n25%       2.000000     0.000000    21.000000     0.000000     0.000000   \n50%       3.000000     0.000000    28.000000     0.000000     0.000000   \n75%       3.000000     1.000000    39.000000     1.000000     0.000000   \nmax       3.000000     1.000000    80.000000     8.000000     9.000000   \n\n              fare        body  \ncount  1308.000000  121.000000  \nmean     33.295479  160.809917  \nstd      51.758668   97.696922  \nmin       0.000000    1.000000  \n25%       7.895800   72.000000  \n50%      14.454200  155.000000  \n75%      31.275000  256.000000  \nmax     512.329200  328.000000  ",
      "text/html": "<div>\n<style scoped>\n    .dataframe tbody tr th:only-of-type {\n        vertical-align: middle;\n    }\n\n    .dataframe tbody tr th {\n        vertical-align: top;\n    }\n\n    .dataframe thead th {\n        text-align: right;\n    }\n</style>\n<table border=\"1\" class=\"dataframe\">\n  <thead>\n    <tr style=\"text-align: right;\">\n      <th></th>\n      <th>pclass</th>\n      <th>survived</th>\n      <th>age</th>\n      <th>sibsp</th>\n      <th>parch</th>\n      <th>fare</th>\n      <th>body</th>\n    </tr>\n  </thead>\n  <tbody>\n    <tr>\n      <th>count</th>\n      <td>1309.000000</td>\n      <td>1309.000000</td>\n      <td>1046.000000</td>\n      <td>1309.000000</td>\n      <td>1309.000000</td>\n      <td>1308.000000</td>\n      <td>121.000000</td>\n    </tr>\n    <tr>\n      <th>mean</th>\n      <td>2.294882</td>\n      <td>0.381971</td>\n      <td>29.881135</td>\n      <td>0.498854</td>\n      <td>0.385027</td>\n      <td>33.295479</td>\n      <td>160.809917</td>\n    </tr>\n    <tr>\n      <th>std</th>\n      <td>0.837836</td>\n      <td>0.486055</td>\n      <td>14.413500</td>\n      <td>1.041658</td>\n      <td>0.865560</td>\n      <td>51.758668</td>\n      <td>97.696922</td>\n    </tr>\n    <tr>\n      <th>min</th>\n      <td>1.000000</td>\n      <td>0.000000</td>\n      <td>0.166700</td>\n      <td>0.000000</td>\n      <td>0.000000</td>\n      <td>0.000000</td>\n      <td>1.000000</td>\n    </tr>\n    <tr>\n      <th>25%</th>\n      <td>2.000000</td>\n      <td>0.000000</td>\n      <td>21.000000</td>\n      <td>0.000000</td>\n      <td>0.000000</td>\n      <td>7.895800</td>\n      <td>72.000000</td>\n    </tr>\n    <tr>\n      <th>50%</th>\n      <td>3.000000</td>\n      <td>0.000000</td>\n      <td>28.000000</td>\n      <td>0.000000</td>\n      <td>0.000000</td>\n      <td>14.454200</td>\n      <td>155.000000</td>\n    </tr>\n    <tr>\n      <th>75%</th>\n      <td>3.000000</td>\n      <td>1.000000</td>\n      <td>39.000000</td>\n      <td>1.000000</td>\n      <td>0.000000</td>\n      <td>31.275000</td>\n      <td>256.000000</td>\n    </tr>\n    <tr>\n      <th>max</th>\n      <td>3.000000</td>\n      <td>1.000000</td>\n      <td>80.000000</td>\n      <td>8.000000</td>\n      <td>9.000000</td>\n      <td>512.329200</td>\n      <td>328.000000</td>\n    </tr>\n  </tbody>\n</table>\n</div>"
     },
     "execution_count": 4,
     "metadata": {},
     "output_type": "execute_result"
    }
   ],
   "source": [
    "df.describe()"
   ],
   "metadata": {
    "collapsed": false,
    "ExecuteTime": {
     "end_time": "2024-01-26T16:21:34.797871600Z",
     "start_time": "2024-01-26T16:21:34.467467500Z"
    }
   },
   "id": "11ed9f4210117ba7"
  },
  {
   "cell_type": "markdown",
   "source": [
    "W sumaryzacji widoczne są braki w kolumnie age."
   ],
   "metadata": {
    "collapsed": false
   },
   "id": "c619bfd262f3cb4f"
  },
  {
   "cell_type": "code",
   "execution_count": 5,
   "outputs": [],
   "source": [
    "df_numerical =  df.select_dtypes(include=['float64', 'int64'])"
   ],
   "metadata": {
    "collapsed": false,
    "ExecuteTime": {
     "end_time": "2024-01-26T16:21:34.833265100Z",
     "start_time": "2024-01-26T16:21:34.515557800Z"
    }
   },
   "id": "4747c818694e30c4"
  },
  {
   "cell_type": "code",
   "execution_count": 6,
   "outputs": [
    {
     "data": {
      "text/plain": "<Axes: >"
     },
     "execution_count": 6,
     "metadata": {},
     "output_type": "execute_result"
    },
    {
     "data": {
      "text/plain": "<Figure size 1100x900 with 2 Axes>",
      "image/png": "[encoded data removed]"
     },
     "metadata": {},
     "output_type": "display_data"
    }
   ],
   "source": [
    "corr = df_numerical.corr()\n",
    "\n",
    "mask = np.triu(np.ones_like(corr, dtype=bool))\n",
    "\n",
    "f, ax = plt.subplots(figsize=(11, 9))\n",
    "\n",
    "cmap = sns.diverging_palette(230, 20, as_cmap=True)\n",
    "\n",
    "\n",
    "sns.heatmap(corr, mask=mask, cmap=cmap, vmax=.3, center=0,\n",
    "            square=True, linewidths=.5, cbar_kws={\"shrink\": .5})"
   ],
   "metadata": {
    "collapsed": false,
    "ExecuteTime": {
     "end_time": "2024-01-26T16:21:35.299870100Z",
     "start_time": "2024-01-26T16:21:34.531626700Z"
    }
   },
   "id": "d6c5f470fdc36936"
  },
  {
   "cell_type": "markdown",
   "source": [
    "Z powyższej macierzy korelacji wynika, że nie ma zmiennych, które by były ze sobą silnie skorelowane\n"
   ],
   "metadata": {
    "collapsed": false
   },
   "id": "c2820ff975e57d6d"
  },
  {
   "cell_type": "code",
   "execution_count": 7,
   "outputs": [],
   "source": [
    "miss_age = miss_rows = df[df['name'].str.contains('Miss', case=False)]['age'].mean()\n",
    "master_age = df[df['name'].str.contains('Master', case=False)]['age'].mean()\n",
    "mr_age  = df[df['name'].str.contains('Sir|Mr|Mrs|Ms', case=False)]['age'].mean()\n",
    "dr_age  = df[df['name'].str.contains('Dr', case=False)]['age'].mean()"
   ],
   "metadata": {
    "collapsed": false,
    "ExecuteTime": {
     "end_time": "2024-01-26T16:21:35.487078400Z",
     "start_time": "2024-01-26T16:21:35.193575600Z"
    }
   },
   "id": "69c7efabc972b2f5"
  },
  {
   "cell_type": "code",
   "execution_count": 8,
   "outputs": [],
   "source": [
    "df.loc[df['name'].str.contains('Miss'), 'age'] = df.loc[df['name'].str.contains('Miss') ,'age'].fillna(miss_age)\n",
    "df.loc[df['name'].str.contains('Master'), 'age'] = df.loc[df['name'].str.contains('Master') ,'age'].fillna(master_age)\n",
    "df.loc[df['name'].str.contains('Sir|Mr|Mrs|Ms'), 'age'] = df.loc[df['name'].str.contains('Sir|Mr|Mrs|Ms') ,'age'].fillna(mr_age)\n",
    "df.loc[df['name'].str.contains('Dr'), 'age'] = df.loc[df['name'].str.contains('Dr') ,'age'].fillna(dr_age)\n"
   ],
   "metadata": {
    "collapsed": false,
    "ExecuteTime": {
     "end_time": "2024-01-26T16:21:35.490305700Z",
     "start_time": "2024-01-26T16:21:35.228459100Z"
    }
   },
   "id": "f5d0f0f9843b4cf1"
  },
  {
   "cell_type": "code",
   "execution_count": 9,
   "outputs": [],
   "source": [
    "df['family_size'] = df['parch'] + df['sibsp'] + 1\n",
    "\n",
    "age_bins = [0, 6, 12, 18, float('inf')]\n",
    "age_labels = ['Bobas', 'Dzieciak', 'Nastolatek', 'Dorosły']\n",
    "df['age_range'] = pd.cut(df['age'], bins=age_bins, labels=age_labels, right=False)\n",
    "\n",
    "df['mpc'] = df['age'] * df['pclass']"
   ],
   "metadata": {
    "collapsed": false,
    "ExecuteTime": {
     "end_time": "2024-01-26T16:21:35.523350100Z",
     "start_time": "2024-01-26T16:21:35.274741200Z"
    }
   },
   "id": "e6d321fcc33cc138"
  },
  {
   "cell_type": "code",
   "execution_count": 10,
   "outputs": [
    {
     "data": {
      "text/plain": "   pclass  survived                                             name     sex  \\\n0       1         1                    Allen, Miss. Elisabeth Walton  female   \n1       1         1                   Allison, Master. Hudson Trevor    male   \n2       1         0                     Allison, Miss. Helen Loraine  female   \n3       1         0             Allison, Mr. Hudson Joshua Creighton    male   \n4       1         0  Allison, Mrs. Hudson J C (Bessie Waldo Daniels)  female   \n\n       age  sibsp  parch  ticket      fare    cabin embarked boat   body  \\\n0  29.0000      0      0   24160  211.3375       B5        S    2    NaN   \n1   0.9167      1      2  113781  151.5500  C22 C26        S   11    NaN   \n2   2.0000      1      2  113781  151.5500  C22 C26        S  NaN    NaN   \n3  30.0000      1      2  113781  151.5500  C22 C26        S  NaN  135.0   \n4  25.0000      1      2  113781  151.5500  C22 C26        S  NaN    NaN   \n\n                         home_dest  family_size age_range      mpc  \n0                     St Louis, MO            1   Dorosły  29.0000  \n1  Montreal, PQ / Chesterville, ON            4     Bobas   0.9167  \n2  Montreal, PQ / Chesterville, ON            4     Bobas   2.0000  \n3  Montreal, PQ / Chesterville, ON            4   Dorosły  30.0000  \n4  Montreal, PQ / Chesterville, ON            4   Dorosły  25.0000  ",
      "text/html": "<div>\n<style scoped>\n    .dataframe tbody tr th:only-of-type {\n        vertical-align: middle;\n    }\n\n    .dataframe tbody tr th {\n        vertical-align: top;\n    }\n\n    .dataframe thead th {\n        text-align: right;\n    }\n</style>\n<table border=\"1\" class=\"dataframe\">\n  <thead>\n    <tr style=\"text-align: right;\">\n      <th></th>\n      <th>pclass</th>\n      <th>survived</th>\n      <th>name</th>\n      <th>sex</th>\n      <th>age</th>\n      <th>sibsp</th>\n      <th>parch</th>\n      <th>ticket</th>\n      <th>fare</th>\n      <th>cabin</th>\n      <th>embarked</th>\n      <th>boat</th>\n      <th>body</th>\n      <th>home_dest</th>\n      <th>family_size</th>\n      <th>age_range</th>\n      <th>mpc</th>\n    </tr>\n  </thead>\n  <tbody>\n    <tr>\n      <th>0</th>\n      <td>1</td>\n      <td>1</td>\n      <td>Allen, Miss. Elisabeth Walton</td>\n      <td>female</td>\n      <td>29.0000</td>\n      <td>0</td>\n      <td>0</td>\n      <td>24160</td>\n      <td>211.3375</td>\n      <td>B5</td>\n      <td>S</td>\n      <td>2</td>\n      <td>NaN</td>\n      <td>St Louis, MO</td>\n      <td>1</td>\n      <td>Dorosły</td>\n      <td>29.0000</td>\n    </tr>\n    <tr>\n      <th>1</th>\n      <td>1</td>\n      <td>1</td>\n      <td>Allison, Master. Hudson Trevor</td>\n      <td>male</td>\n      <td>0.9167</td>\n      <td>1</td>\n      <td>2</td>\n      <td>113781</td>\n      <td>151.5500</td>\n      <td>C22 C26</td>\n      <td>S</td>\n      <td>11</td>\n      <td>NaN</td>\n      <td>Montreal, PQ / Chesterville, ON</td>\n      <td>4</td>\n      <td>Bobas</td>\n      <td>0.9167</td>\n    </tr>\n    <tr>\n      <th>2</th>\n      <td>1</td>\n      <td>0</td>\n      <td>Allison, Miss. Helen Loraine</td>\n      <td>female</td>\n      <td>2.0000</td>\n      <td>1</td>\n      <td>2</td>\n      <td>113781</td>\n      <td>151.5500</td>\n      <td>C22 C26</td>\n      <td>S</td>\n      <td>NaN</td>\n      <td>NaN</td>\n      <td>Montreal, PQ / Chesterville, ON</td>\n      <td>4</td>\n      <td>Bobas</td>\n      <td>2.0000</td>\n    </tr>\n    <tr>\n      <th>3</th>\n      <td>1</td>\n      <td>0</td>\n      <td>Allison, Mr. Hudson Joshua Creighton</td>\n      <td>male</td>\n      <td>30.0000</td>\n      <td>1</td>\n      <td>2</td>\n      <td>113781</td>\n      <td>151.5500</td>\n      <td>C22 C26</td>\n      <td>S</td>\n      <td>NaN</td>\n      <td>135.0</td>\n      <td>Montreal, PQ / Chesterville, ON</td>\n      <td>4</td>\n      <td>Dorosły</td>\n      <td>30.0000</td>\n    </tr>\n    <tr>\n      <th>4</th>\n      <td>1</td>\n      <td>0</td>\n      <td>Allison, Mrs. Hudson J C (Bessie Waldo Daniels)</td>\n      <td>female</td>\n      <td>25.0000</td>\n      <td>1</td>\n      <td>2</td>\n      <td>113781</td>\n      <td>151.5500</td>\n      <td>C22 C26</td>\n      <td>S</td>\n      <td>NaN</td>\n      <td>NaN</td>\n      <td>Montreal, PQ / Chesterville, ON</td>\n      <td>4</td>\n      <td>Dorosły</td>\n      <td>25.0000</td>\n    </tr>\n  </tbody>\n</table>\n</div>"
     },
     "execution_count": 10,
     "metadata": {},
     "output_type": "execute_result"
    }
   ],
   "source": [
    "df.head()"
   ],
   "metadata": {
    "collapsed": false,
    "ExecuteTime": {
     "end_time": "2024-01-26T16:21:35.543582300Z",
     "start_time": "2024-01-26T16:21:35.302049Z"
    }
   },
   "id": "c16dc38c0f87957a"
  },
  {
   "cell_type": "code",
   "execution_count": 11,
   "outputs": [],
   "source": [
    "df['sex'] = df['sex'].astype('category').cat.codes\n",
    "df['embarked'] = df['embarked'].astype('category').cat.codes\n",
    "\n",
    "df['survived'] = df['survived'].astype('category').cat.codes\n",
    "\n",
    "df['pclass'] = df['pclass'].astype('category').cat.codes\n",
    "df['age_range'] = df['age_range'].astype('category').cat.codes\n"
   ],
   "metadata": {
    "collapsed": false,
    "ExecuteTime": {
     "end_time": "2024-01-26T16:21:35.570339700Z",
     "start_time": "2024-01-26T16:21:35.409940900Z"
    }
   },
   "id": "cb1540e20ed20bdc"
  },
  {
   "cell_type": "code",
   "execution_count": 12,
   "outputs": [
    {
     "data": {
      "text/plain": "      pclass  survived                                             name  sex  \\\n0          0         1                    Allen, Miss. Elisabeth Walton    0   \n1          0         1                   Allison, Master. Hudson Trevor    1   \n2          0         0                     Allison, Miss. Helen Loraine    0   \n3          0         0             Allison, Mr. Hudson Joshua Creighton    1   \n4          0         0  Allison, Mrs. Hudson J C (Bessie Waldo Daniels)    0   \n...      ...       ...                                              ...  ...   \n1304       2         0                             Zabour, Miss. Hileni    0   \n1305       2         0                            Zabour, Miss. Thamine    0   \n1306       2         0                        Zakarian, Mr. Mapriededer    1   \n1307       2         0                              Zakarian, Mr. Ortin    1   \n1308       2         0                               Zimmerman, Mr. Leo    1   \n\n            age  sibsp  parch  ticket      fare    cabin  embarked boat  \\\n0     29.000000      0      0   24160  211.3375       B5         2    2   \n1      0.916700      1      2  113781  151.5500  C22 C26         2   11   \n2      2.000000      1      2  113781  151.5500  C22 C26         2  NaN   \n3     30.000000      1      2  113781  151.5500  C22 C26         2  NaN   \n4     25.000000      1      2  113781  151.5500  C22 C26         2  NaN   \n...         ...    ...    ...     ...       ...      ...       ...  ...   \n1304  14.500000      1      0    2665   14.4542      NaN         0  NaN   \n1305  21.774207      1      0    2665   14.4542      NaN         0  NaN   \n1306  26.500000      0      0    2656    7.2250      NaN         0  NaN   \n1307  27.000000      0      0    2670    7.2250      NaN         0  NaN   \n1308  29.000000      0      0  315082    7.8750      NaN         2  NaN   \n\n       body                        home_dest  family_size  age_range       mpc  \n0       NaN                     St Louis, MO            1          3  29.00000  \n1       NaN  Montreal, PQ / Chesterville, ON            4          0   0.91670  \n2       NaN  Montreal, PQ / Chesterville, ON            4          0   2.00000  \n3     135.0  Montreal, PQ / Chesterville, ON            4          3  30.00000  \n4       NaN  Montreal, PQ / Chesterville, ON            4          3  25.00000  \n...     ...                              ...          ...        ...       ...  \n1304  328.0                              NaN            2          2  43.50000  \n1305    NaN                              NaN            2          3  65.32262  \n1306  304.0                              NaN            1          3  79.50000  \n1307    NaN                              NaN            1          3  81.00000  \n1308    NaN                              NaN            1          3  87.00000  \n\n[1309 rows x 17 columns]",
      "text/html": "<div>\n<style scoped>\n    .dataframe tbody tr th:only-of-type {\n        vertical-align: middle;\n    }\n\n    .dataframe tbody tr th {\n        vertical-align: top;\n    }\n\n    .dataframe thead th {\n        text-align: right;\n    }\n</style>\n<table border=\"1\" class=\"dataframe\">\n  <thead>\n    <tr style=\"text-align: right;\">\n      <th></th>\n      <th>pclass</th>\n      <th>survived</th>\n      <th>name</th>\n      <th>sex</th>\n      <th>age</th>\n      <th>sibsp</th>\n      <th>parch</th>\n      <th>ticket</th>\n      <th>fare</th>\n      <th>cabin</th>\n      <th>embarked</th>\n      <th>boat</th>\n      <th>body</th>\n      <th>home_dest</th>\n      <th>family_size</th>\n      <th>age_range</th>\n      <th>mpc</th>\n    </tr>\n  </thead>\n  <tbody>\n    <tr>\n      <th>0</th>\n      <td>0</td>\n      <td>1</td>\n      <td>Allen, Miss. Elisabeth Walton</td>\n      <td>0</td>\n      <td>29.000000</td>\n      <td>0</td>\n      <td>0</td>\n      <td>24160</td>\n      <td>211.3375</td>\n      <td>B5</td>\n      <td>2</td>\n      <td>2</td>\n      <td>NaN</td>\n      <td>St Louis, MO</td>\n      <td>1</td>\n      <td>3</td>\n      <td>29.00000</td>\n    </tr>\n    <tr>\n      <th>1</th>\n      <td>0</td>\n      <td>1</td>\n      <td>Allison, Master. Hudson Trevor</td>\n      <td>1</td>\n      <td>0.916700</td>\n      <td>1</td>\n      <td>2</td>\n      <td>113781</td>\n      <td>151.5500</td>\n      <td>C22 C26</td>\n      <td>2</td>\n      <td>11</td>\n      <td>NaN</td>\n      <td>Montreal, PQ / Chesterville, ON</td>\n      <td>4</td>\n      <td>0</td>\n      <td>0.91670</td>\n    </tr>\n    <tr>\n      <th>2</th>\n      <td>0</td>\n      <td>0</td>\n      <td>Allison, Miss. Helen Loraine</td>\n      <td>0</td>\n      <td>2.000000</td>\n      <td>1</td>\n      <td>2</td>\n      <td>113781</td>\n      <td>151.5500</td>\n      <td>C22 C26</td>\n      <td>2</td>\n      <td>NaN</td>\n      <td>NaN</td>\n      <td>Montreal, PQ / Chesterville, ON</td>\n      <td>4</td>\n      <td>0</td>\n      <td>2.00000</td>\n    </tr>\n    <tr>\n      <th>3</th>\n      <td>0</td>\n      <td>0</td>\n      <td>Allison, Mr. Hudson Joshua Creighton</td>\n      <td>1</td>\n      <td>30.000000</td>\n      <td>1</td>\n      <td>2</td>\n      <td>113781</td>\n      <td>151.5500</td>\n      <td>C22 C26</td>\n      <td>2</td>\n      <td>NaN</td>\n      <td>135.0</td>\n      <td>Montreal, PQ / Chesterville, ON</td>\n      <td>4</td>\n      <td>3</td>\n      <td>30.00000</td>\n    </tr>\n    <tr>\n      <th>4</th>\n      <td>0</td>\n      <td>0</td>\n      <td>Allison, Mrs. Hudson J C (Bessie Waldo Daniels)</td>\n      <td>0</td>\n      <td>25.000000</td>\n      <td>1</td>\n      <td>2</td>\n      <td>113781</td>\n      <td>151.5500</td>\n      <td>C22 C26</td>\n      <td>2</td>\n      <td>NaN</td>\n      <td>NaN</td>\n      <td>Montreal, PQ / Chesterville, ON</td>\n      <td>4</td>\n      <td>3</td>\n      <td>25.00000</td>\n    </tr>\n    <tr>\n      <th>...</th>\n      <td>...</td>\n      <td>...</td>\n      <td>...</td>\n      <td>...</td>\n      <td>...</td>\n      <td>...</td>\n      <td>...</td>\n      <td>...</td>\n      <td>...</td>\n      <td>...</td>\n      <td>...</td>\n      <td>...</td>\n      <td>...</td>\n      <td>...</td>\n      <td>...</td>\n      <td>...</td>\n      <td>...</td>\n    </tr>\n    <tr>\n      <th>1304</th>\n      <td>2</td>\n      <td>0</td>\n      <td>Zabour, Miss. Hileni</td>\n      <td>0</td>\n      <td>14.500000</td>\n      <td>1</td>\n      <td>0</td>\n      <td>2665</td>\n      <td>14.4542</td>\n      <td>NaN</td>\n      <td>0</td>\n      <td>NaN</td>\n      <td>328.0</td>\n      <td>NaN</td>\n      <td>2</td>\n      <td>2</td>\n      <td>43.50000</td>\n    </tr>\n    <tr>\n      <th>1305</th>\n      <td>2</td>\n      <td>0</td>\n      <td>Zabour, Miss. Thamine</td>\n      <td>0</td>\n      <td>21.774207</td>\n      <td>1</td>\n      <td>0</td>\n      <td>2665</td>\n      <td>14.4542</td>\n      <td>NaN</td>\n      <td>0</td>\n      <td>NaN</td>\n      <td>NaN</td>\n      <td>NaN</td>\n      <td>2</td>\n      <td>3</td>\n      <td>65.32262</td>\n    </tr>\n    <tr>\n      <th>1306</th>\n      <td>2</td>\n      <td>0</td>\n      <td>Zakarian, Mr. Mapriededer</td>\n      <td>1</td>\n      <td>26.500000</td>\n      <td>0</td>\n      <td>0</td>\n      <td>2656</td>\n      <td>7.2250</td>\n      <td>NaN</td>\n      <td>0</td>\n      <td>NaN</td>\n      <td>304.0</td>\n      <td>NaN</td>\n      <td>1</td>\n      <td>3</td>\n      <td>79.50000</td>\n    </tr>\n    <tr>\n      <th>1307</th>\n      <td>2</td>\n      <td>0</td>\n      <td>Zakarian, Mr. Ortin</td>\n      <td>1</td>\n      <td>27.000000</td>\n      <td>0</td>\n      <td>0</td>\n      <td>2670</td>\n      <td>7.2250</td>\n      <td>NaN</td>\n      <td>0</td>\n      <td>NaN</td>\n      <td>NaN</td>\n      <td>NaN</td>\n      <td>1</td>\n      <td>3</td>\n      <td>81.00000</td>\n    </tr>\n    <tr>\n      <th>1308</th>\n      <td>2</td>\n      <td>0</td>\n      <td>Zimmerman, Mr. Leo</td>\n      <td>1</td>\n      <td>29.000000</td>\n      <td>0</td>\n      <td>0</td>\n      <td>315082</td>\n      <td>7.8750</td>\n      <td>NaN</td>\n      <td>2</td>\n      <td>NaN</td>\n      <td>NaN</td>\n      <td>NaN</td>\n      <td>1</td>\n      <td>3</td>\n      <td>87.00000</td>\n    </tr>\n  </tbody>\n</table>\n<p>1309 rows × 17 columns</p>\n</div>"
     },
     "execution_count": 12,
     "metadata": {},
     "output_type": "execute_result"
    }
   ],
   "source": [
    "df"
   ],
   "metadata": {
    "collapsed": false,
    "ExecuteTime": {
     "end_time": "2024-01-26T16:21:35.620771300Z",
     "start_time": "2024-01-26T16:21:35.428335100Z"
    }
   },
   "id": "9755499160838f9c"
  },
  {
   "cell_type": "code",
   "execution_count": 13,
   "outputs": [
    {
     "data": {
      "text/plain": "array([ 2,  0, -1,  1], dtype=int8)"
     },
     "execution_count": 13,
     "metadata": {},
     "output_type": "execute_result"
    }
   ],
   "source": [
    "df['embarked'].unique()"
   ],
   "metadata": {
    "collapsed": false,
    "ExecuteTime": {
     "end_time": "2024-01-26T16:21:35.652736800Z",
     "start_time": "2024-01-26T16:21:35.456825700Z"
    }
   },
   "id": "557aac75a8f952af"
  },
  {
   "cell_type": "code",
   "execution_count": 14,
   "outputs": [
    {
     "name": "stdout",
     "output_type": "stream",
     "text": [
      "<class 'pandas.core.frame.DataFrame'>\n",
      "RangeIndex: 1309 entries, 0 to 1308\n",
      "Data columns (total 17 columns):\n",
      " #   Column       Non-Null Count  Dtype  \n",
      "---  ------       --------------  -----  \n",
      " 0   pclass       1309 non-null   int8   \n",
      " 1   survived     1309 non-null   int8   \n",
      " 2   name         1309 non-null   object \n",
      " 3   sex          1309 non-null   int8   \n",
      " 4   age          1309 non-null   float64\n",
      " 5   sibsp        1309 non-null   int64  \n",
      " 6   parch        1309 non-null   int64  \n",
      " 7   ticket       1309 non-null   object \n",
      " 8   fare         1308 non-null   float64\n",
      " 9   cabin        295 non-null    object \n",
      " 10  embarked     1309 non-null   int8   \n",
      " 11  boat         486 non-null    object \n",
      " 12  body         121 non-null    float64\n",
      " 13  home_dest    745 non-null    object \n",
      " 14  family_size  1309 non-null   int64  \n",
      " 15  age_range    1309 non-null   int8   \n",
      " 16  mpc          1309 non-null   float64\n",
      "dtypes: float64(4), int64(3), int8(5), object(5)\n",
      "memory usage: 129.2+ KB\n"
     ]
    }
   ],
   "source": [
    "df.info()"
   ],
   "metadata": {
    "collapsed": false,
    "ExecuteTime": {
     "end_time": "2024-01-26T16:21:35.682138200Z",
     "start_time": "2024-01-26T16:21:35.470839700Z"
    }
   },
   "id": "a012d2198cd1b421"
  },
  {
   "cell_type": "code",
   "execution_count": 15,
   "outputs": [
    {
     "name": "stdout",
     "output_type": "stream",
     "text": [
      "   pclass  survived                                             name  sex  \\\n",
      "0       0         1                    Allen, Miss. Elisabeth Walton    0   \n",
      "1       0         1                   Allison, Master. Hudson Trevor    1   \n",
      "2       0         0                     Allison, Miss. Helen Loraine    0   \n",
      "3       0         0             Allison, Mr. Hudson Joshua Creighton    1   \n",
      "4       0         0  Allison, Mrs. Hudson J C (Bessie Waldo Daniels)    0   \n",
      "\n",
      "       age  sibsp  parch  ticket      fare    cabin  embarked boat   body  \\\n",
      "0  29.0000      0      0   24160  211.3375       B5       2.0    2    NaN   \n",
      "1   0.9167      1      2  113781  151.5500  C22 C26       2.0   11    NaN   \n",
      "2   2.0000      1      2  113781  151.5500  C22 C26       2.0  NaN    NaN   \n",
      "3  30.0000      1      2  113781  151.5500  C22 C26       2.0  NaN  135.0   \n",
      "4  25.0000      1      2  113781  151.5500  C22 C26       2.0  NaN    NaN   \n",
      "\n",
      "                         home_dest  family_size  age_range      mpc  \n",
      "0                     St Louis, MO            1          3  29.0000  \n",
      "1  Montreal, PQ / Chesterville, ON            4          0   0.9167  \n",
      "2  Montreal, PQ / Chesterville, ON            4          0   2.0000  \n",
      "3  Montreal, PQ / Chesterville, ON            4          3  30.0000  \n",
      "4  Montreal, PQ / Chesterville, ON            4          3  25.0000  \n"
     ]
    }
   ],
   "source": [
    "from sklearn.experimental import enable_iterative_imputer\n",
    "from sklearn.impute import IterativeImputer\n",
    "columns_to_impute = ['fare', 'embarked']\n",
    "imputer = IterativeImputer()\n",
    "\n",
    "df[columns_to_impute] = imputer.fit_transform(df[columns_to_impute])\n",
    "\n",
    "print(df.head())"
   ],
   "metadata": {
    "collapsed": false,
    "ExecuteTime": {
     "end_time": "2024-01-26T16:21:37.591964800Z",
     "start_time": "2024-01-26T16:21:35.501065600Z"
    }
   },
   "id": "b7573ac94cc6b5cb"
  },
  {
   "cell_type": "code",
   "execution_count": 16,
   "outputs": [],
   "source": [
    "df.drop(['body','home_dest', 'boat', 'cabin'], axis=1, inplace=True)"
   ],
   "metadata": {
    "collapsed": false,
    "ExecuteTime": {
     "end_time": "2024-01-26T16:21:37.603863600Z",
     "start_time": "2024-01-26T16:21:37.567677400Z"
    }
   },
   "id": "60e8535937a230f3"
  },
  {
   "cell_type": "code",
   "execution_count": 17,
   "outputs": [
    {
     "data": {
      "text/plain": "<Axes: xlabel='age', ylabel='age'>"
     },
     "execution_count": 17,
     "metadata": {},
     "output_type": "execute_result"
    },
    {
     "data": {
      "text/plain": "<Figure size 640x480 with 1 Axes>",
      "image/png": "[encoded data removed]"
     },
     "metadata": {},
     "output_type": "display_data"
    }
   ],
   "source": [
    "half_df = df[0:5]\n",
    "sns.scatterplot(x=df['age'], y=df['age'])\n"
   ],
   "metadata": {
    "collapsed": false,
    "ExecuteTime": {
     "end_time": "2024-01-26T16:21:38.074974600Z",
     "start_time": "2024-01-26T16:21:37.585373900Z"
    }
   },
   "id": "c88a2e2651f576bd"
  },
  {
   "cell_type": "code",
   "execution_count": 18,
   "outputs": [
    {
     "data": {
      "text/plain": "<Axes: xlabel='fare', ylabel='fare'>"
     },
     "execution_count": 18,
     "metadata": {},
     "output_type": "execute_result"
    },
    {
     "data": {
      "text/plain": "<Figure size 640x480 with 1 Axes>",
      "image/png": "[encoded data removed]"
     },
     "metadata": {},
     "output_type": "display_data"
    }
   ],
   "source": [
    "sns.scatterplot(x=df['fare'], y=df['fare'])"
   ],
   "metadata": {
    "collapsed": false,
    "ExecuteTime": {
     "end_time": "2024-01-26T16:21:38.409004400Z",
     "start_time": "2024-01-26T16:21:38.060908200Z"
    }
   },
   "id": "af668e2a02ec3f74"
  },
  {
   "cell_type": "code",
   "execution_count": 19,
   "outputs": [],
   "source": [
    "mean_age = df['age'].mean()\n",
    "df.loc[df['age']>67, 'age'] = mean_age\n",
    "mean_fare = df['fare'].mean()\n",
    "df.loc[df['fare']>300, 'fare'] = mean_fare"
   ],
   "metadata": {
    "collapsed": false,
    "ExecuteTime": {
     "end_time": "2024-01-26T16:21:38.490671200Z",
     "start_time": "2024-01-26T16:21:38.400625600Z"
    }
   },
   "id": "fb79f3e123081857"
  },
  {
   "cell_type": "code",
   "execution_count": 20,
   "outputs": [
    {
     "data": {
      "text/plain": "<Axes: xlabel='age', ylabel='age'>"
     },
     "execution_count": 20,
     "metadata": {},
     "output_type": "execute_result"
    },
    {
     "data": {
      "text/plain": "<Figure size 640x480 with 1 Axes>",
      "image/png": "[encoded data removed]"
     },
     "metadata": {},
     "output_type": "display_data"
    }
   ],
   "source": [
    "sns.scatterplot(x=df['age'], y=df['age'])"
   ],
   "metadata": {
    "collapsed": false,
    "ExecuteTime": {
     "end_time": "2024-01-26T16:21:38.791380900Z",
     "start_time": "2024-01-26T16:21:38.419854700Z"
    }
   },
   "id": "51093dbba617130"
  },
  {
   "cell_type": "code",
   "execution_count": 21,
   "outputs": [
    {
     "name": "stdout",
     "output_type": "stream",
     "text": [
      "<class 'pandas.core.frame.DataFrame'>\n",
      "RangeIndex: 1309 entries, 0 to 1308\n",
      "Data columns (total 13 columns):\n",
      " #   Column       Non-Null Count  Dtype  \n",
      "---  ------       --------------  -----  \n",
      " 0   pclass       1309 non-null   int8   \n",
      " 1   survived     1309 non-null   int8   \n",
      " 2   name         1309 non-null   object \n",
      " 3   sex          1309 non-null   int8   \n",
      " 4   age          1309 non-null   float64\n",
      " 5   sibsp        1309 non-null   int64  \n",
      " 6   parch        1309 non-null   int64  \n",
      " 7   ticket       1309 non-null   object \n",
      " 8   fare         1309 non-null   float64\n",
      " 9   embarked     1309 non-null   float64\n",
      " 10  family_size  1309 non-null   int64  \n",
      " 11  age_range    1309 non-null   int8   \n",
      " 12  mpc          1309 non-null   float64\n",
      "dtypes: float64(4), int64(3), int8(4), object(2)\n",
      "memory usage: 97.3+ KB\n"
     ]
    }
   ],
   "source": [
    "df.info()"
   ],
   "metadata": {
    "collapsed": false,
    "ExecuteTime": {
     "end_time": "2024-01-26T16:25:22.978123600Z",
     "start_time": "2024-01-26T16:25:22.922839900Z"
    }
   },
   "id": "a95c00fdbc9bfda6"
  },
  {
   "cell_type": "code",
   "execution_count": 22,
   "outputs": [],
   "source": [
    "from sklearn.preprocessing import MinMaxScaler\n",
    "scaler = MinMaxScaler()\n",
    "numeric_columns = ['family_size', 'mpc', 'embarked', 'fare','parch','sibsp','age']\n",
    "numeric_data = df[numeric_columns]\n",
    "normalized_data = scaler.fit_transform(numeric_data)\n",
    "df[numeric_columns] = normalized_data"
   ],
   "metadata": {
    "collapsed": false,
    "ExecuteTime": {
     "end_time": "2024-01-26T16:27:57.895843900Z",
     "start_time": "2024-01-26T16:27:57.845065600Z"
    }
   },
   "id": "9a42ef8a4ada06f9"
  },
  {
   "cell_type": "code",
   "execution_count": 24,
   "outputs": [],
   "source": [
    "model_columns = ['sex', 'age', 'age_range', 'pclass', 'fare'] \n",
    "X_data = df[model_columns]\n",
    "Y_data = df['survived']"
   ],
   "metadata": {
    "collapsed": false,
    "ExecuteTime": {
     "end_time": "2024-01-26T16:32:36.423171600Z",
     "start_time": "2024-01-26T16:32:36.407414500Z"
    }
   },
   "id": "51877e63d79b2424"
  },
  {
   "cell_type": "code",
   "execution_count": 25,
   "outputs": [],
   "source": [
    "from sklearn.model_selection import train_test_split\n",
    "X_train, X_test, Y_train, Y_test = train_test_split(X_data, Y_data, test_size=0.2, random_state=0)"
   ],
   "metadata": {
    "collapsed": false,
    "ExecuteTime": {
     "end_time": "2024-01-26T16:33:27.750177500Z",
     "start_time": "2024-01-26T16:33:27.706170700Z"
    }
   },
   "id": "64b70cf08fdb2a59"
  },
  {
   "cell_type": "code",
   "execution_count": 26,
   "outputs": [
    {
     "data": {
      "text/plain": "DecisionTreeClassifier()",
      "text/html": "<style>#sk-container-id-1 {\n  /* Definition of color scheme common for light and dark mode */\n  --sklearn-color-text: black;\n  --sklearn-color-line: gray;\n  /* Definition of color scheme for unfitted estimators */\n  --sklearn-color-unfitted-level-0: #fff5e6;\n  --sklearn-color-unfitted-level-1: #f6e4d2;\n  --sklearn-color-unfitted-level-2: #ffe0b3;\n  --sklearn-color-unfitted-level-3: chocolate;\n  /* Definition of color scheme for fitted estimators */\n  --sklearn-color-fitted-level-0: #f0f8ff;\n  --sklearn-color-fitted-level-1: #d4ebff;\n  --sklearn-color-fitted-level-2: #b3dbfd;\n  --sklearn-color-fitted-level-3: cornflowerblue;\n\n  /* Specific color for light theme */\n  --sklearn-color-text-on-default-background: var(--sg-text-color, var(--theme-code-foreground, var(--jp-content-font-color1, black)));\n  --sklearn-color-background: var(--sg-background-color, var(--theme-background, var(--jp-layout-color0, white)));\n  --sklearn-color-border-box: var(--sg-text-color, var(--theme-code-foreground, var(--jp-content-font-color1, black)));\n  --sklearn-color-icon: #696969;\n\n  @media (prefers-color-scheme: dark) {\n    /* Redefinition of color scheme for dark theme */\n    --sklearn-color-text-on-default-background: var(--sg-text-color, var(--theme-code-foreground, var(--jp-content-font-color1, white)));\n    --sklearn-color-background: var(--sg-background-color, var(--theme-background, var(--jp-layout-color0, #111)));\n    --sklearn-color-border-box: var(--sg-text-color, var(--theme-code-foreground, var(--jp-content-font-color1, white)));\n    --sklearn-color-icon: #878787;\n  }\n}\n\n#sk-container-id-1 {\n  color: var(--sklearn-color-text);\n}\n\n#sk-container-id-1 pre {\n  padding: 0;\n}\n\n#sk-container-id-1 input.sk-hidden--visually {\n  border: 0;\n  clip: rect(1px 1px 1px 1px);\n  clip: rect(1px, 1px, 1px, 1px);\n  height: 1px;\n  margin: -1px;\n  overflow: hidden;\n  padding: 0;\n  position: absolute;\n  width: 1px;\n}\n\n#sk-container-id-1 div.sk-dashed-wrapped {\n  border: 1px dashed var(--sklearn-color-line);\n  margin: 0 0.4em 0.5em 0.4em;\n  box-sizing: border-box;\n  padding-bottom: 0.4em;\n  background-color: var(--sklearn-color-background);\n}\n\n#sk-container-id-1 div.sk-container {\n  /* jupyter's `normalize.less` sets `[hidden] { display: none; }`\n     but bootstrap.min.css set `[hidden] { display: none !important; }`\n     so we also need the `!important` here to be able to override the\n     default hidden behavior on the sphinx rendered scikit-learn.org.\n     See: https://github.com/scikit-learn/scikit-learn/issues/21755 */\n  display: inline-block !important;\n  position: relative;\n}\n\n#sk-container-id-1 div.sk-text-repr-fallback {\n  display: none;\n}\n\ndiv.sk-parallel-item,\ndiv.sk-serial,\ndiv.sk-item {\n  /* draw centered vertical line to link estimators */\n  background-image: linear-gradient(var(--sklearn-color-text-on-default-background), var(--sklearn-color-text-on-default-background));\n  background-size: 2px 100%;\n  background-repeat: no-repeat;\n  background-position: center center;\n}\n\n/* Parallel-specific style estimator block */\n\n#sk-container-id-1 div.sk-parallel-item::after {\n  content: \"\";\n  width: 100%;\n  border-bottom: 2px solid var(--sklearn-color-text-on-default-background);\n  flex-grow: 1;\n}\n\n#sk-container-id-1 div.sk-parallel {\n  display: flex;\n  align-items: stretch;\n  justify-content: center;\n  background-color: var(--sklearn-color-background);\n  position: relative;\n}\n\n#sk-container-id-1 div.sk-parallel-item {\n  display: flex;\n  flex-direction: column;\n}\n\n#sk-container-id-1 div.sk-parallel-item:first-child::after {\n  align-self: flex-end;\n  width: 50%;\n}\n\n#sk-container-id-1 div.sk-parallel-item:last-child::after {\n  align-self: flex-start;\n  width: 50%;\n}\n\n#sk-container-id-1 div.sk-parallel-item:only-child::after {\n  width: 0;\n}\n\n/* Serial-specific style estimator block */\n\n#sk-container-id-1 div.sk-serial {\n  display: flex;\n  flex-direction: column;\n  align-items: center;\n  background-color: var(--sklearn-color-background);\n  padding-right: 1em;\n  padding-left: 1em;\n}\n\n\n/* Toggleable style: style used for estimator/Pipeline/ColumnTransformer box that is\nclickable and can be expanded/collapsed.\n- Pipeline and ColumnTransformer use this feature and define the default style\n- Estimators will overwrite some part of the style using the `sk-estimator` class\n*/\n\n/* Pipeline and ColumnTransformer style (default) */\n\n#sk-container-id-1 div.sk-toggleable {\n  /* Default theme specific background. It is overwritten whether we have a\n  specific estimator or a Pipeline/ColumnTransformer */\n  background-color: var(--sklearn-color-background);\n}\n\n/* Toggleable label */\n#sk-container-id-1 label.sk-toggleable__label {\n  cursor: pointer;\n  display: block;\n  width: 100%;\n  margin-bottom: 0;\n  padding: 0.5em;\n  box-sizing: border-box;\n  text-align: center;\n}\n\n#sk-container-id-1 label.sk-toggleable__label-arrow:before {\n  /* Arrow on the left of the label */\n  content: \"▸\";\n  float: left;\n  margin-right: 0.25em;\n  color: var(--sklearn-color-icon);\n}\n\n#sk-container-id-1 label.sk-toggleable__label-arrow:hover:before {\n  color: var(--sklearn-color-text);\n}\n\n/* Toggleable content - dropdown */\n\n#sk-container-id-1 div.sk-toggleable__content {\n  max-height: 0;\n  max-width: 0;\n  overflow: hidden;\n  text-align: left;\n  /* unfitted */\n  background-color: var(--sklearn-color-unfitted-level-0);\n}\n\n#sk-container-id-1 div.sk-toggleable__content.fitted {\n  /* fitted */\n  background-color: var(--sklearn-color-fitted-level-0);\n}\n\n#sk-container-id-1 div.sk-toggleable__content pre {\n  margin: 0.2em;\n  border-radius: 0.25em;\n  color: var(--sklearn-color-text);\n  /* unfitted */\n  background-color: var(--sklearn-color-unfitted-level-0);\n}\n\n#sk-container-id-1 div.sk-toggleable__content.fitted pre {\n  /* unfitted */\n  background-color: var(--sklearn-color-fitted-level-0);\n}\n\n#sk-container-id-1 input.sk-toggleable__control:checked~div.sk-toggleable__content {\n  /* Expand drop-down */\n  max-height: 200px;\n  max-width: 100%;\n  overflow: auto;\n}\n\n#sk-container-id-1 input.sk-toggleable__control:checked~label.sk-toggleable__label-arrow:before {\n  content: \"▾\";\n}\n\n/* Pipeline/ColumnTransformer-specific style */\n\n#sk-container-id-1 div.sk-label input.sk-toggleable__control:checked~label.sk-toggleable__label {\n  color: var(--sklearn-color-text);\n  background-color: var(--sklearn-color-unfitted-level-2);\n}\n\n#sk-container-id-1 div.sk-label.fitted input.sk-toggleable__control:checked~label.sk-toggleable__label {\n  background-color: var(--sklearn-color-fitted-level-2);\n}\n\n/* Estimator-specific style */\n\n/* Colorize estimator box */\n#sk-container-id-1 div.sk-estimator input.sk-toggleable__control:checked~label.sk-toggleable__label {\n  /* unfitted */\n  background-color: var(--sklearn-color-unfitted-level-2);\n}\n\n#sk-container-id-1 div.sk-estimator.fitted input.sk-toggleable__control:checked~label.sk-toggleable__label {\n  /* fitted */\n  background-color: var(--sklearn-color-fitted-level-2);\n}\n\n#sk-container-id-1 div.sk-label label.sk-toggleable__label,\n#sk-container-id-1 div.sk-label label {\n  /* The background is the default theme color */\n  color: var(--sklearn-color-text-on-default-background);\n}\n\n/* On hover, darken the color of the background */\n#sk-container-id-1 div.sk-label:hover label.sk-toggleable__label {\n  color: var(--sklearn-color-text);\n  background-color: var(--sklearn-color-unfitted-level-2);\n}\n\n/* Label box, darken color on hover, fitted */\n#sk-container-id-1 div.sk-label.fitted:hover label.sk-toggleable__label.fitted {\n  color: var(--sklearn-color-text);\n  background-color: var(--sklearn-color-fitted-level-2);\n}\n\n/* Estimator label */\n\n#sk-container-id-1 div.sk-label label {\n  font-family: monospace;\n  font-weight: bold;\n  display: inline-block;\n  line-height: 1.2em;\n}\n\n#sk-container-id-1 div.sk-label-container {\n  text-align: center;\n}\n\n/* Estimator-specific */\n#sk-container-id-1 div.sk-estimator {\n  font-family: monospace;\n  border: 1px dotted var(--sklearn-color-border-box);\n  border-radius: 0.25em;\n  box-sizing: border-box;\n  margin-bottom: 0.5em;\n  /* unfitted */\n  background-color: var(--sklearn-color-unfitted-level-0);\n}\n\n#sk-container-id-1 div.sk-estimator.fitted {\n  /* fitted */\n  background-color: var(--sklearn-color-fitted-level-0);\n}\n\n/* on hover */\n#sk-container-id-1 div.sk-estimator:hover {\n  /* unfitted */\n  background-color: var(--sklearn-color-unfitted-level-2);\n}\n\n#sk-container-id-1 div.sk-estimator.fitted:hover {\n  /* fitted */\n  background-color: var(--sklearn-color-fitted-level-2);\n}\n\n/* Specification for estimator info (e.g. \"i\" and \"?\") */\n\n/* Common style for \"i\" and \"?\" */\n\n.sk-estimator-doc-link,\na:link.sk-estimator-doc-link,\na:visited.sk-estimator-doc-link {\n  float: right;\n  font-size: smaller;\n  line-height: 1em;\n  font-family: monospace;\n  background-color: var(--sklearn-color-background);\n  border-radius: 1em;\n  height: 1em;\n  width: 1em;\n  text-decoration: none !important;\n  margin-left: 1ex;\n  /* unfitted */\n  border: var(--sklearn-color-unfitted-level-1) 1pt solid;\n  color: var(--sklearn-color-unfitted-level-1);\n}\n\n.sk-estimator-doc-link.fitted,\na:link.sk-estimator-doc-link.fitted,\na:visited.sk-estimator-doc-link.fitted {\n  /* fitted */\n  border: var(--sklearn-color-fitted-level-1) 1pt solid;\n  color: var(--sklearn-color-fitted-level-1);\n}\n\n/* On hover */\ndiv.sk-estimator:hover .sk-estimator-doc-link:hover,\n.sk-estimator-doc-link:hover,\ndiv.sk-label-container:hover .sk-estimator-doc-link:hover,\n.sk-estimator-doc-link:hover {\n  /* unfitted */\n  background-color: var(--sklearn-color-unfitted-level-3);\n  color: var(--sklearn-color-background);\n  text-decoration: none;\n}\n\ndiv.sk-estimator.fitted:hover .sk-estimator-doc-link.fitted:hover,\n.sk-estimator-doc-link.fitted:hover,\ndiv.sk-label-container:hover .sk-estimator-doc-link.fitted:hover,\n.sk-estimator-doc-link.fitted:hover {\n  /* fitted */\n  background-color: var(--sklearn-color-fitted-level-3);\n  color: var(--sklearn-color-background);\n  text-decoration: none;\n}\n\n/* Span, style for the box shown on hovering the info icon */\n.sk-estimator-doc-link span {\n  display: none;\n  z-index: 9999;\n  position: relative;\n  font-weight: normal;\n  right: .2ex;\n  padding: .5ex;\n  margin: .5ex;\n  width: min-content;\n  min-width: 20ex;\n  max-width: 50ex;\n  color: var(--sklearn-color-text);\n  box-shadow: 2pt 2pt 4pt #999;\n  /* unfitted */\n  background: var(--sklearn-color-unfitted-level-0);\n  border: .5pt solid var(--sklearn-color-unfitted-level-3);\n}\n\n.sk-estimator-doc-link.fitted span {\n  /* fitted */\n  background: var(--sklearn-color-fitted-level-0);\n  border: var(--sklearn-color-fitted-level-3);\n}\n\n.sk-estimator-doc-link:hover span {\n  display: block;\n}\n\n/* \"?\"-specific style due to the `<a>` HTML tag */\n\n#sk-container-id-1 a.estimator_doc_link {\n  float: right;\n  font-size: 1rem;\n  line-height: 1em;\n  font-family: monospace;\n  background-color: var(--sklearn-color-background);\n  border-radius: 1rem;\n  height: 1rem;\n  width: 1rem;\n  text-decoration: none;\n  /* unfitted */\n  color: var(--sklearn-color-unfitted-level-1);\n  border: var(--sklearn-color-unfitted-level-1) 1pt solid;\n}\n\n#sk-container-id-1 a.estimator_doc_link.fitted {\n  /* fitted */\n  border: var(--sklearn-color-fitted-level-1) 1pt solid;\n  color: var(--sklearn-color-fitted-level-1);\n}\n\n/* On hover */\n#sk-container-id-1 a.estimator_doc_link:hover {\n  /* unfitted */\n  background-color: var(--sklearn-color-unfitted-level-3);\n  color: var(--sklearn-color-background);\n  text-decoration: none;\n}\n\n#sk-container-id-1 a.estimator_doc_link.fitted:hover {\n  /* fitted */\n  background-color: var(--sklearn-color-fitted-level-3);\n}\n</style><div id=\"sk-container-id-1\" class=\"sk-top-container\"><div class=\"sk-text-repr-fallback\"><pre>DecisionTreeClassifier()</pre><b>In a Jupyter environment, please rerun this cell to show the HTML representation or trust the notebook. <br />On GitHub, the HTML representation is unable to render, please try loading this page with nbviewer.org.</b></div><div class=\"sk-container\" hidden><div class=\"sk-item\"><div class=\"sk-estimator fitted sk-toggleable\"><input class=\"sk-toggleable__control sk-hidden--visually\" id=\"sk-estimator-id-1\" type=\"checkbox\" checked><label for=\"sk-estimator-id-1\" class=\"sk-toggleable__label fitted sk-toggleable__label-arrow fitted\">&nbsp;&nbsp;DecisionTreeClassifier<a class=\"sk-estimator-doc-link fitted\" rel=\"noreferrer\" target=\"_blank\" href=\"https://scikit-learn.org/1.4/modules/generated/sklearn.tree.DecisionTreeClassifier.html\">?<span>Documentation for DecisionTreeClassifier</span></a><span class=\"sk-estimator-doc-link fitted\">i<span>Fitted</span></span></label><div class=\"sk-toggleable__content fitted\"><pre>DecisionTreeClassifier()</pre></div> </div></div></div></div>"
     },
     "execution_count": 26,
     "metadata": {},
     "output_type": "execute_result"
    }
   ],
   "source": [
    "from sklearn.tree import DecisionTreeClassifier\n",
    "dtree = DecisionTreeClassifier()\n",
    "dtree.fit(X_train, Y_train)"
   ],
   "metadata": {
    "collapsed": false,
    "ExecuteTime": {
     "end_time": "2024-01-26T16:35:21.841309600Z",
     "start_time": "2024-01-26T16:35:21.622368700Z"
    }
   },
   "id": "8a11e1bdbe6e02e6"
  },
  {
   "cell_type": "code",
   "execution_count": 28,
   "outputs": [
    {
     "name": "stdout",
     "output_type": "stream",
     "text": [
      "Dokładność modelu na danych treningowych: 76.34%\n"
     ]
    }
   ],
   "source": [
    "from sklearn.metrics import accuracy_score\n",
    "\n",
    "Y_pred_train = dtree.predict(X_test)\n",
    "accuracy = accuracy_score(Y_test, Y_pred_train)\n",
    "\n",
    "print(f'Dokładność modelu na danych treningowych: {accuracy:.2%}')"
   ],
   "metadata": {
    "collapsed": false,
    "ExecuteTime": {
     "end_time": "2024-01-26T16:37:18.442974200Z",
     "start_time": "2024-01-26T16:37:18.408311900Z"
    }
   },
   "id": "1486cd943fd01847"
  },
  {
   "cell_type": "code",
   "execution_count": 35,
   "outputs": [
    {
     "name": "stdout",
     "output_type": "stream",
     "text": [
      "Dokładność modelu na danych treningowych: 69.47%\n"
     ]
    }
   ],
   "source": [
    "model_columns = ['parch', 'age', 'family_size', 'pclass', 'embarked']\n",
    "X_data = df[model_columns]\n",
    "X_train, X_test, Y_train, Y_test = train_test_split(X_data, Y_data, test_size=0.2, random_state=0)\n",
    "from sklearn.linear_model import LogisticRegression\n",
    "model = LogisticRegression()\n",
    "model.fit(X_train, Y_train)\n",
    "Y_pred_train = model.predict(X_test)\n",
    "accuracy = accuracy_score(Y_test, Y_pred_train)\n",
    "\n",
    "print(f'Dokładność modelu na danych treningowych: {accuracy:.2%}')"
   ],
   "metadata": {
    "collapsed": false,
    "ExecuteTime": {
     "end_time": "2024-01-26T16:43:41.371849800Z",
     "start_time": "2024-01-26T16:43:41.278608Z"
    }
   },
   "id": "44851bc918e28cc"
  },
  {
   "cell_type": "code",
   "execution_count": 33,
   "outputs": [
    {
     "name": "stdout",
     "output_type": "stream",
     "text": [
      "Dokładność modelu na danych treningowych: 81.68%\n"
     ]
    }
   ],
   "source": [
    "model_columns = ['sex', 'age', 'family_size', 'pclass', 'fare', 'embarked']\n",
    "X_data = df[model_columns]\n",
    "X_train, X_test, Y_train, Y_test = train_test_split(X_data, Y_data, test_size=0.2, random_state=0)\n",
    "from sklearn.ensemble import RandomForestClassifier\n",
    "model = RandomForestClassifier()\n",
    "model.fit(X_train, Y_train)\n",
    "Y_pred_train = model.predict(X_test)\n",
    "accuracy = accuracy_score(Y_test, Y_pred_train)\n",
    "\n",
    "print(f'Dokładność modelu na danych treningowych: {accuracy:.2%}')"
   ],
   "metadata": {
    "collapsed": false,
    "ExecuteTime": {
     "end_time": "2024-01-26T16:43:31.728801900Z",
     "start_time": "2024-01-26T16:43:30.926971500Z"
    }
   },
   "id": "de77b04ece1aa36b"
  },
  {
   "cell_type": "code",
   "execution_count": 36,
   "outputs": [
    {
     "name": "stdout",
     "output_type": "stream",
     "text": [
      "Dokładność modelu na danych treningowych: 78.24%\n"
     ]
    }
   ],
   "source": [
    "model_columns = ['sex', 'age', 'age_range', 'pclass', 'fare']\n",
    "X_data = df[model_columns]\n",
    "X_train, X_test, Y_train, Y_test = train_test_split(X_data, Y_data, test_size=0.2, random_state=0)\n",
    "from sklearn.neighbors import KNeighborsClassifier\n",
    "model = KNeighborsClassifier()\n",
    "model.fit(X_train, Y_train)\n",
    "Y_pred_train = model.predict(X_test)\n",
    "accuracy = accuracy_score(Y_test, Y_pred_train)\n",
    "\n",
    "print(f'Dokładność modelu na danych treningowych: {accuracy:.2%}')"
   ],
   "metadata": {
    "collapsed": false,
    "ExecuteTime": {
     "end_time": "2024-01-26T16:45:03.010485Z",
     "start_time": "2024-01-26T16:45:02.949286600Z"
    }
   },
   "id": "cbce128aae3b0008"
  },
  {
   "cell_type": "code",
   "execution_count": 38,
   "outputs": [
    {
     "name": "stdout",
     "output_type": "stream",
     "text": [
      "Dokładność modelu na danych treningowych: 83.21%\n"
     ]
    }
   ],
   "source": [
    "model_columns = ['sex', 'age_range', 'pclass', 'fare', 'pclass',  'embarked']\n",
    "X_data = df[model_columns]\n",
    "X_train, X_test, Y_train, Y_test = train_test_split(X_data, Y_data, test_size=0.2, random_state=0)\n",
    "from sklearn.ensemble import GradientBoostingClassifier\n",
    "model = GradientBoostingClassifier()\n",
    "model.fit(X_train, Y_train)\n",
    "Y_pred_train = model.predict(X_test)\n",
    "accuracy = accuracy_score(Y_test, Y_pred_train)\n",
    "\n",
    "print(f'Dokładność modelu na danych treningowych: {accuracy:.2%}')"
   ],
   "metadata": {
    "collapsed": false,
    "ExecuteTime": {
     "end_time": "2024-01-26T16:46:10.640767300Z",
     "start_time": "2024-01-26T16:46:10.455333900Z"
    }
   },
   "id": "6ed285501c11b2df"
  },
  {
   "cell_type": "code",
   "execution_count": null,
   "outputs": [],
   "source": [],
   "metadata": {
    "collapsed": false
   },
   "id": "b3fbe7224ccb5572"
  }
 ],
 "metadata": {
  "kernelspec": {
   "display_name": "Python 3",
   "language": "python",
   "name": "python3"
  },
  "language_info": {
   "codemirror_mode": {
    "name": "ipython",
    "version": 2
   },
   "file_extension": ".py",
   "mimetype": "text/x-python",
   "name": "python",
   "nbconvert_exporter": "python",
   "pygments_lexer": "ipython2",
   "version": "2.7.6"
  }
 },
 "nbformat": 4,
 "nbformat_minor": 5
}
